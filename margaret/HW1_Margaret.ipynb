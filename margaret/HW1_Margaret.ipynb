{
 "cells": [
  {
   "cell_type": "markdown",
   "metadata": {},
   "source": [
    "# Personal Info  \n",
    "Margaret Jones  \n",
    "mmj32@pitt.edu  \n",
    "September 3, 2017  \n",
    "  \n",
    "# Data Set Info  \n",
    "Name: Harry Potter and the Sorcerers Stone  \n",
    "Author: J.K. Rowling  \n",
    "URL: http://www2.sdfi.edu.cn/netclass/jiaoan/englit/download/Harry%20Potter%20and%20the%20Sorcerer's%20Stone.pdf  \n",
    "Format: Book"
   ]
  },
  {
   "cell_type": "markdown",
   "metadata": {},
   "source": [
    "# Self Assessment  \n",
    "Quick Description: This code reads through the entirety of the first Harry Potter book and does a word count as well as counts the number of times each of the 3 main characters of the series is reffered to by name. It then prints out who is most commonly referenced.  \n",
    "  \n",
    "A future wish: In the future I'd like to be able to generally be a better programer, and, with this data in particular, I want to be able to include all of the books, so that I could do statistics on the books as a whole series rather than picking one. "
   ]
  },
  {
   "cell_type": "code",
   "execution_count": 110,
   "metadata": {},
   "outputs": [
    {
     "name": "stdout",
     "output_type": "stream",
     "text": [
      "Here is a small snip of the corpus: \n",
      "1\n",
      "Harry Potter and the Sorcerer's Stone\n",
      "CHAPTER ONE\n",
      "THE BOY WHO LIVED\n",
      "Mr. and Mrs. Dursley, of number four, Privet Drive, were proud to say\n",
      "that they were perfectly normal, thank you very much. They were the last\n",
      "people you'd expect to be involved in anything strange or mysterious,\n",
      "because they just didn't hold with such nonsense.\n",
      "Mr. Dursley was the director of a firm called Grunnings, which made\n",
      "drills. He was a big, beefy man with hardly any neck, although he did\n",
      "have a very large mustache. Mrs. Dursley was thin and blonde and had\n",
      "nearly twice the usual amount of neck, which came in very useful as she\n",
      "spent so much of her time craning over garden fences, spying on the\n",
      "neighbors. The Dursleys had a small son called Dudley and in their\n",
      "opinion there was no finer boy anywhere.\n",
      "The Dursleys had everything they wanted, but they also had a secret, and\n",
      "their greatest fear was that somebody would discover it. They didn't\n",
      "think they could bear it if anyone found out about the Potters. Mrs.\n",
      "Potter was Mrs. Dursley's sister, but they hadn't met for several years;\n",
      "in fact, Mrs. Dursley pretended she didn't have a sister, because her\n",
      "sister and her good-for-nothing husband were as unDursleyish as it was\n",
      "possible to be. \n",
      "\n",
      "Some general information about the corpus: \n",
      "Title: Harry Potter and the Sorcerer's Stone\n",
      "Author: J.K. Rowling\n",
      "Number of text files: 1\n",
      "Word count: 78479\n",
      "\n",
      "Discovery: \n",
      "The number of times Harry's name appears in the text: 902\n",
      "The number of times Herminoe's name appears in the text: 175\n",
      "The number of times Ron's name appears in the text: 249\n",
      "Therefore, Harry is the most referenced out of the 3 main characters!\n"
     ]
    }
   ],
   "source": [
    "#A Check for current file path if needed\n",
    "#import os\n",
    "#print(os.getcwd())\n",
    "\n",
    "#finding and saving the text file (corpus) and then printing the first bit\n",
    "hptext = open(\"data/HarryPotter1Full.txt\", \"r\")\n",
    "print(\"Here is a small snip of the corpus: \")\n",
    "print(hptext.read(1229))\n",
    "print()\n",
    "\n",
    "#getting word total (wtotal) and the totals for all instances of the character's names \n",
    "#Harry (ptotal), Hermione (gtotal), and Ron (rtotal).\n",
    "wtotal=0\n",
    "ptotal = 0\n",
    "gtotal = 0\n",
    "rtotal = 0\n",
    "for word in hptext.read().split():\n",
    "    wtotal += 1 \n",
    "    if word == \"Harry\":\n",
    "        ptotal += 1\n",
    "    if word == \"Hermione\":\n",
    "        gtotal += 1\n",
    "    if word == \"Ron\":\n",
    "        rtotal += 1\n",
    "    \n",
    "#print basic info (title, author, number of files, word count)\n",
    "print(\"Some general information about the corpus: \")\n",
    "print(\"Title: Harry Potter and the Sorcerer's Stone\")\n",
    "print(\"Author: J.K. Rowling\")\n",
    "print(\"Number of text files: \" + str(1))\n",
    "print(\"Word count: \" + str(wtotal))\n",
    "print()\n",
    "\n",
    "#discovery: Out of the 3 main characters, whose name is mentioned the most? (Ron vs. Hermione vs. Harry)\n",
    "#print discoveries\n",
    "print(\"Discovery: \")\n",
    "print(\"The number of times Harry's name appears in the text: \" + str(ptotal))\n",
    "print(\"The number of times Herminoe's name appears in the text: \" + str(gtotal))\n",
    "print(\"The number of times Ron's name appears in the text: \" + str(rtotal))\n",
    "\n",
    "#Printing who is referenced most\n",
    "#if Harry > Hermione and Ron\n",
    "if ptotal > gtotal:\n",
    "    if ptotal > rtotal:\n",
    "        print(\"Therefore, Harry is the most referenced out of the 3 main characters!\")\n",
    "\n",
    "#if Ron > Harry and Hermione\n",
    "if rtotal > ptotal:\n",
    "    if rtotal > gtotal:\n",
    "        print(\"Therefore, Ron is the most referenced out of the 3 main characters!\")\n",
    "\n",
    "#if Hermione > Ron and Harry\n",
    "if gtotal > rtotal:\n",
    "    if gtotal > ptotal:\n",
    "        print(\"Therefore, Hermione is the most referenced out of the 3 main characters!\")\n",
    "\n",
    "#The End!"
   ]
  },
  {
   "cell_type": "code",
   "execution_count": null,
   "metadata": {
    "collapsed": true
   },
   "outputs": [],
   "source": []
  }
 ],
 "metadata": {
  "kernelspec": {
   "display_name": "Python 3",
   "language": "python",
   "name": "python3"
  },
  "language_info": {
   "codemirror_mode": {
    "name": "ipython",
    "version": 3
   },
   "file_extension": ".py",
   "mimetype": "text/x-python",
   "name": "python",
   "nbconvert_exporter": "python",
   "pygments_lexer": "ipython3",
   "version": "3.6.1"
  }
 },
 "nbformat": 4,
 "nbformat_minor": 2
}
