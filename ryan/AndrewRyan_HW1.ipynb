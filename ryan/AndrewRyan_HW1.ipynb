{
 "cells": [
  {
   "cell_type": "markdown",
   "metadata": {},
   "source": [
    "Andrew Ryan\n",
    "\n",
    "Andrew Ryan@pitt.edu\n",
    "\n",
    "9/5/2017"
   ]
  },
  {
   "cell_type": "markdown",
   "metadata": {},
   "source": [
    "Dolch Word List is a list of 220 common English words put together by Edward William Dolch in 1936. They are comprised of words from children's books and are considered words that you must know in order to have a higher grasp of the English language.\n",
    "\n",
    "The Dolch Word List is available for [download](http://www.nltk.org/nltk_data/) as ***item 19***.\n",
    "\n",
    "Files without extensions are tagged for *parts of speech*. They can be opened and read with a text editor.\n",
    "\n",
    "No license is listed in the downloaded files."
   ]
  },
  {
   "cell_type": "code",
   "execution_count": 1,
   "metadata": {},
   "outputs": [
    {
     "name": "stdout",
     "output_type": "stream",
     "text": [
      "There are 325 words in this list\n",
      "Here are some example words: ['day', 'dog', 'doll', 'door', 'duck']\n",
      "Enter a sentence to see what percentage of your words are found in the list:dog cat but\n",
      "dog found\n",
      "cat found\n",
      "but found\n",
      "Your sentence is comprised of 100.0 % of words from the Dolch Word List\n"
     ]
    }
   ],
   "source": [
    "import nltk, glob\n",
    "\n",
    "#Counts number of words in a user's sentence and returns the percentage of words that are found  in the Dolch Word List\n",
    "def check(sent):\n",
    "    \"Find percentage of words from a sentence found in list\"\n",
    "    #Set Numerator and Denominator to 0\n",
    "    num = 0\n",
    "    denom = 0\n",
    "    \n",
    "    #Check every word to see if it is found in the list\n",
    "    for word in sent:\n",
    "        if word in allwords:\n",
    "            #If found, incrememnt the numerator, print out which word found\n",
    "            num += 1\n",
    "            print(word,\"found\")\n",
    "        denom = len(sent)\n",
    "    return num/denom\n",
    "#Set directory for data files\n",
    "posfiles = glob.glob(r'data\\dolch\\*')\n",
    "#Make a list of all words from the categories\n",
    "allwords = []\n",
    "#Read in all words from each file and strip them of the newline character\n",
    "for file in posfiles:\n",
    "    f = open(file)\n",
    "    curr = f.readlines()\n",
    "    for word in curr:\n",
    "        allwords.append(word.strip('\\n'))\n",
    "\n",
    "print(\"There are\", len(allwords), \"words in this list\")\n",
    "print(\"Here are some example words:\",allwords[110:115])\n",
    "user = input(\"Enter a sentence to see what percentage of your words are found in the list:\").lower().split()\n",
    "print(\"Your sentence is comprised of\", check(user)*100,\"% of words from the Dolch Word List\")"
   ]
  },
  {
   "cell_type": "markdown",
   "metadata": {},
   "source": [
    "The code above allows a user to determine what percentage of an input sentence is comprised of words from the Dolch Word List. It does this by looking at each word in a user generated sentence against the list of words read in from the data folder and returning a fraction of words found over words input. However, I was unsure how to filter the readme file out of the folders it reads data from, so the list inadvertently contains words from the readme.\n",
    "\n",
    "Along with being able to filter out the readme file from the input data, in the future I would like to be able to determine whether a novel word not found in the Dolch Word List could fit the patterns of a word from the list."
   ]
  }
 ],
 "metadata": {
  "kernelspec": {
   "display_name": "Python 3",
   "language": "python",
   "name": "python3"
  },
  "language_info": {
   "codemirror_mode": {
    "name": "ipython",
    "version": 3
   },
   "file_extension": ".py",
   "mimetype": "text/x-python",
   "name": "python",
   "nbconvert_exporter": "python",
   "pygments_lexer": "ipython3",
   "version": "3.6.1"
  }
 },
 "nbformat": 4,
 "nbformat_minor": 2
}
