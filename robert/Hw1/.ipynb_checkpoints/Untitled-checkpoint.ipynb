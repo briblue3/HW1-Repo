{
 "cells": [
  {
   "cell_type": "markdown",
   "metadata": {},
   "source": [
    "Robert Corbett  -  \n",
    "rwc27@pitt.edu  -  \n",
    "9/4/17\n",
    "\n",
    "Genesis Corpus  -  \n",
    "http://www.nltk.org/nltk_data/  -  \n",
    "author/copyright: public domain (Bible)\n",
    "\n",
    "The data set contains 8 translations of the book of Genesis from the Bible.  English (King James version), English (World English Bible), Finnish, French, German, lolcat, Portuguese, and Swedish.  The files are .txt files prepared with markup and verse numbers stripped away."
   ]
  },
  {
   "cell_type": "code",
   "execution_count": null,
   "metadata": {
    "collapsed": true
   },
   "outputs": [],
   "source": [
    "import numpy as np"
   ]
  }
 ],
 "metadata": {
  "kernelspec": {
   "display_name": "Python 3",
   "language": "python",
   "name": "python3"
  },
  "language_info": {
   "codemirror_mode": {
    "name": "ipython",
    "version": 3
   },
   "file_extension": ".py",
   "mimetype": "text/x-python",
   "name": "python",
   "nbconvert_exporter": "python",
   "pygments_lexer": "ipython3",
   "version": "3.6.1"
  }
 },
 "nbformat": 4,
 "nbformat_minor": 2
}
