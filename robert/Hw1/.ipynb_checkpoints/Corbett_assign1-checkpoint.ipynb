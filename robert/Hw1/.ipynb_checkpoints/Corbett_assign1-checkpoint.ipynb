{
 "cells": [
  {
   "cell_type": "markdown",
   "metadata": {},
   "source": [
    "Robert Corbett  -  \n",
    "rwc27@pitt.edu  - \n",
    "9/4/17\n",
    "\n",
    "Words Lists  -  \n",
    "http://www.nltk.org/nltk_data/  -  \n",
    "author/copyright: public domain\n",
    "\n",
    "235886 English words in alphabetical order"
   ]
  },
  {
   "cell_type": "code",
   "execution_count": 68,
   "metadata": {},
   "outputs": [],
   "source": [
    "import numpy as np"
   ]
  },
  {
   "cell_type": "code",
   "execution_count": 69,
   "metadata": {
    "scrolled": true
   },
   "outputs": [],
   "source": [
    "data = np.loadtxt('data/words/en', dtype = str)"
   ]
  },
  {
   "cell_type": "markdown",
   "metadata": {},
   "source": [
    "Length of array"
   ]
  },
  {
   "cell_type": "code",
   "execution_count": 70,
   "metadata": {},
   "outputs": [
    {
     "name": "stdout",
     "output_type": "stream",
     "text": [
      "235886\n"
     ]
    }
   ],
   "source": [
    "print(len(data))"
   ]
  },
  {
   "cell_type": "markdown",
   "metadata": {},
   "source": [
    "All elements begin with \"b'\""
   ]
  },
  {
   "cell_type": "code",
   "execution_count": 71,
   "metadata": {},
   "outputs": [
    {
     "name": "stdout",
     "output_type": "stream",
     "text": [
      "[\"b'A'\" \"b'a'\" \"b'aa'\" \"b'aal'\" \"b'aalii'\" \"b'aam'\" \"b'Aani'\" \"b'aardvark'\"\n",
      " \"b'aardwolf'\" \"b'Aaron'\" \"b'Aaronic'\" \"b'Aaronical'\" \"b'Aaronite'\"\n",
      " \"b'Aaronitic'\" \"b'Aaru'\" \"b'Ab'\" \"b'aba'\" \"b'Ababdeh'\" \"b'Ababua'\"\n",
      " \"b'abac'\" \"b'abaca'\" \"b'abacate'\" \"b'abacay'\" \"b'abacinate'\"\n",
      " \"b'abacination'\" \"b'abaciscus'\" \"b'abacist'\" \"b'aback'\" \"b'abactinal'\"\n",
      " \"b'abactinally'\" \"b'abaction'\" \"b'abactor'\" \"b'abaculus'\" \"b'abacus'\"\n",
      " \"b'Abadite'\" \"b'abaff'\" \"b'abaft'\" \"b'abaisance'\" \"b'abaiser'\"\n",
      " \"b'abaissed'\" \"b'abalienate'\" \"b'abalienation'\" \"b'abalone'\" \"b'Abama'\"\n",
      " \"b'abampere'\" \"b'abandon'\" \"b'abandonable'\" \"b'abandoned'\"\n",
      " \"b'abandonedly'\" \"b'abandonee'\"]\n"
     ]
    }
   ],
   "source": [
    "print(data[0:50])"
   ]
  },
  {
   "cell_type": "code",
   "execution_count": 72,
   "metadata": {},
   "outputs": [
    {
     "name": "stdout",
     "output_type": "stream",
     "text": [
      "[\"b'beefer'\" \"b'beefhead'\" \"b'beefheaded'\" \"b'beefily'\" \"b'beefin'\"\n",
      " \"b'beefiness'\" \"b'beefish'\" \"b'beefishness'\" \"b'beefless'\" \"b'beeflower'\"\n",
      " \"b'beefsteak'\" \"b'beeftongue'\" \"b'beefwood'\" \"b'beefy'\" \"b'beegerite'\"\n",
      " \"b'beehead'\" \"b'beeheaded'\" \"b'beeherd'\" \"b'beehive'\" \"b'beehouse'\"\n",
      " \"b'beeish'\" \"b'beeishness'\" \"b'beek'\" \"b'beekeeper'\" \"b'beekeeping'\"\n",
      " \"b'beekite'\" \"b'Beekmantown'\" \"b'beelbow'\" \"b'beelike'\" \"b'beeline'\"\n",
      " \"b'beelol'\" \"b'Beelzebub'\" \"b'Beelzebubian'\" \"b'Beelzebul'\" \"b'beeman'\"\n",
      " \"b'beemaster'\" \"b'been'\" \"b'beennut'\" \"b'beer'\" \"b'beerage'\"\n",
      " \"b'beerbachite'\" \"b'beerbibber'\" \"b'beerhouse'\" \"b'beerily'\"\n",
      " \"b'beeriness'\" \"b'beerish'\" \"b'beerishly'\" \"b'beermaker'\" \"b'beermaking'\"\n",
      " \"b'beermonger'\"]\n"
     ]
    }
   ],
   "source": [
    "print(data[20000:20050])"
   ]
  },
  {
   "cell_type": "code",
   "execution_count": 73,
   "metadata": {
    "scrolled": true
   },
   "outputs": [
    {
     "name": "stdout",
     "output_type": "stream",
     "text": [
      "[\"b'commenter'\" \"b'commerce'\" \"b'commerceless'\" \"b'commercer'\"\n",
      " \"b'commerciable'\" \"b'commercial'\" \"b'commercialism'\" \"b'commercialist'\"\n",
      " \"b'commercialistic'\" \"b'commerciality'\" \"b'commercialization'\"\n",
      " \"b'commercialize'\" \"b'commercially'\" \"b'commercium'\" \"b'commerge'\"\n",
      " \"b'commie'\" \"b'comminate'\" \"b'commination'\" \"b'comminative'\"\n",
      " \"b'comminator'\" \"b'comminatory'\" \"b'commingle'\" \"b'comminglement'\"\n",
      " \"b'commingler'\" \"b'comminister'\" \"b'comminuate'\" \"b'comminute'\"\n",
      " \"b'comminution'\" \"b'comminutor'\" \"b'Commiphora'\" \"b'commiserable'\"\n",
      " \"b'commiserate'\" \"b'commiseratingly'\" \"b'commiseration'\"\n",
      " \"b'commiserative'\" \"b'commiseratively'\" \"b'commiserator'\" \"b'commissar'\"\n",
      " \"b'commissarial'\" \"b'commissariat'\" \"b'commissary'\" \"b'commissaryship'\"\n",
      " \"b'commission'\" \"b'commissionaire'\" \"b'commissional'\" \"b'commissionate'\"\n",
      " \"b'commissioner'\" \"b'commissionership'\" \"b'commissionship'\"\n",
      " \"b'commissive'\"]\n"
     ]
    }
   ],
   "source": [
    "print(data[40000:40050])"
   ]
  },
  {
   "cell_type": "markdown",
   "metadata": {},
   "source": [
    "Code counts how many words begin with each letter"
   ]
  },
  {
   "cell_type": "markdown",
   "metadata": {},
   "source": [
    "Need to declare some variables and arrays for the algorithm"
   ]
  },
  {
   "cell_type": "code",
   "execution_count": 74,
   "metadata": {},
   "outputs": [],
   "source": [
    "alph_lower = \"abcdefghijklmnopqrstuvwxyz\"\n",
    "alph_upper = \"ABCDEFGHIJKLMNOPQRSTUVWXYZ\"\n",
    "i = 0\n",
    "j = 0\n",
    "x = 0\n",
    "length = [0,0,0,0,0,0,0,0,0,0,0,0,0,0,0,0,0,0,0,0,0,0,0,0,0,0]"
   ]
  },
  {
   "cell_type": "markdown",
   "metadata": {},
   "source": [
    "Iterates through array data comparing the first letter of the word to letters in the alph_lower/alph_upper arrays until the letters do not match.  Then prints the number of iterations since last time they did not match and sets x to the current value of i and continues iterating."
   ]
  },
  {
   "cell_type": "code",
   "execution_count": 75,
   "metadata": {},
   "outputs": [
    {
     "name": "stdout",
     "output_type": "stream",
     "text": [
      "number of a's = 17096\n",
      "number of b's = 11070\n",
      "number of c's = 19901\n",
      "number of d's = 10896\n",
      "number of e's = 8736\n",
      "number of f's = 6860\n",
      "number of g's = 6861\n",
      "number of h's = 9027\n",
      "number of i's = 8799\n",
      "number of j's = 1642\n",
      "number of k's = 2281\n",
      "number of l's = 6284\n",
      "number of m's = 12616\n",
      "number of n's = 6780\n",
      "number of o's = 7849\n",
      "number of p's = 24461\n",
      "number of q's = 1152\n",
      "number of r's = 9671\n",
      "number of s's = 25162\n",
      "number of t's = 12966\n",
      "number of u's = 16387\n",
      "number of v's = 3440\n",
      "number of w's = 3944\n",
      "number of x's = 385\n",
      "number of y's = 671\n",
      "number of z's = 949\n"
     ]
    }
   ],
   "source": [
    "for i in range(len(data)):\n",
    "    if((data[i][2] == alph_lower[j]) or (data[i][2] == alph_upper[j])):\n",
    "        i = i + 1\n",
    "    else:\n",
    "        print(\"number of \" + alph_lower[j] + \"'s = \" + str(i - x))\n",
    "        length[j] = i - x\n",
    "        x = i\n",
    "        i = i + 1\n",
    "        j = j + 1\n",
    "print(\"number of z's = \" + str(i - x))"
   ]
  },
  {
   "cell_type": "markdown",
   "metadata": {},
   "source": [
    "mean number of words per word"
   ]
  },
  {
   "cell_type": "code",
   "execution_count": 76,
   "metadata": {},
   "outputs": [
    {
     "name": "stdout",
     "output_type": "stream",
     "text": [
      "9036.03846154\n"
     ]
    }
   ],
   "source": [
    "print(np.mean(length))"
   ]
  }
 ],
 "metadata": {
  "kernelspec": {
   "display_name": "Python 3",
   "language": "python",
   "name": "python3"
  },
  "language_info": {
   "codemirror_mode": {
    "name": "ipython",
    "version": 3
   },
   "file_extension": ".py",
   "mimetype": "text/x-python",
   "name": "python",
   "nbconvert_exporter": "python",
   "pygments_lexer": "ipython3",
   "version": "3.6.1"
  }
 },
 "nbformat": 4,
 "nbformat_minor": 2
}
