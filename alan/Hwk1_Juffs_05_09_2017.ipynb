{
 "cells": [
  {
   "cell_type": "markdown",
   "metadata": {},
   "source": [
    "Alan Juffs. juffs@pitt.edu. 09/03/2017. Data = Inaugural Addresses"
   ]
  },
  {
   "cell_type": "markdown",
   "metadata": {
    "collapsed": true
   },
   "source": [
    "1. [5] This code addresses reading the data from the local user directory. \n",
    "2. Code [6] The discovery question involves how many total words are in the corpus. \n",
    "3. Code [27] The questions lists the 100 most frequent words along with their frequencies in the whole database of texts.\n",
    "4. In future work, I would like to be able to profile the vocabulary *sophistication* by President in terms of the word frequencies by BNC-COCA bands. Perhaps it would be possible to determine which President used the 'most sophisticated' vocabulary.\n"
   ]
  },
  {
   "cell_type": "code",
   "execution_count": 5,
   "metadata": {},
   "outputs": [
    {
     "data": {
      "text/plain": [
       "['1789-Washington.txt',\n",
       " '1793-Washington.txt',\n",
       " '1797-Adams.txt',\n",
       " '1801-Jefferson.txt',\n",
       " '1805-Jefferson.txt',\n",
       " '1809-Madison.txt',\n",
       " '1813-Madison.txt',\n",
       " '1817-Monroe.txt',\n",
       " '1821-Monroe.txt',\n",
       " '1825-Adams.txt',\n",
       " '1829-Jackson.txt',\n",
       " '1833-Jackson.txt',\n",
       " '1837-VanBuren.txt',\n",
       " '1841-Harrison.txt',\n",
       " '1845-Polk.txt',\n",
       " '1849-Taylor.txt',\n",
       " '1853-Pierce.txt',\n",
       " '1857-Buchanan.txt',\n",
       " '1861-Lincoln.txt',\n",
       " '1865-Lincoln.txt',\n",
       " '1869-Grant.txt',\n",
       " '1873-Grant.txt',\n",
       " '1877-Hayes.txt',\n",
       " '1881-Garfield.txt',\n",
       " '1885-Cleveland.txt',\n",
       " '1889-Harrison.txt',\n",
       " '1893-Cleveland.txt',\n",
       " '1897-McKinley.txt',\n",
       " '1901-McKinley.txt',\n",
       " '1905-Roosevelt.txt',\n",
       " '1909-Taft.txt',\n",
       " '1913-Wilson.txt',\n",
       " '1917-Wilson.txt',\n",
       " '1921-Harding.txt',\n",
       " '1925-Coolidge.txt',\n",
       " '1929-Hoover.txt',\n",
       " '1933-Roosevelt.txt',\n",
       " '1937-Roosevelt.txt',\n",
       " '1941-Roosevelt.txt',\n",
       " '1945-Roosevelt.txt',\n",
       " '1949-Truman.txt',\n",
       " '1953-Eisenhower.txt',\n",
       " '1957-Eisenhower.txt',\n",
       " '1961-Kennedy.txt',\n",
       " '1965-Johnson.txt',\n",
       " '1969-Nixon.txt',\n",
       " '1973-Nixon.txt',\n",
       " '1977-Carter.txt',\n",
       " '1981-Reagan.txt',\n",
       " '1985-Reagan.txt',\n",
       " '1989-Bush.txt',\n",
       " '1993-Clinton.txt',\n",
       " '1997-Clinton.txt',\n",
       " '2009-Obama.txt']"
      ]
     },
     "execution_count": 5,
     "metadata": {},
     "output_type": "execute_result"
    }
   ],
   "source": [
    "from nltk.corpus import PlaintextCorpusReader\n",
    "corpus_root = '/Users/jane/Documents/Data_Science/Hw1-Repo/alan/inaugural'\n",
    "inaugcorpus = PlaintextCorpusReader(corpus_root, '.*txt')\n",
    "inaugcorpus.fileids()"
   ]
  },
  {
   "cell_type": "code",
   "execution_count": 6,
   "metadata": {},
   "outputs": [
    {
     "name": "stdout",
     "output_type": "stream",
     "text": [
      "141534\n"
     ]
    }
   ],
   "source": [
    "print(len(inaugcorpus.words()))"
   ]
  },
  {
   "cell_type": "code",
   "execution_count": 27,
   "metadata": {},
   "outputs": [
    {
     "data": {
      "text/plain": [
       "[('the', 9100),\n",
       " ('of', 6796),\n",
       " (',', 6593),\n",
       " ('and', 4831),\n",
       " ('.', 4485),\n",
       " ('to', 4230),\n",
       " ('in', 2454),\n",
       " ('a', 2064),\n",
       " ('our', 1812),\n",
       " ('that', 1643),\n",
       " ('be', 1446),\n",
       " ('is', 1342),\n",
       " ('we', 1082),\n",
       " ('for', 1048),\n",
       " ('by', 1003),\n",
       " ('which', 996),\n",
       " ('it', 985),\n",
       " ('have', 965),\n",
       " ('as', 877),\n",
       " ('not', 876),\n",
       " ('with', 871),\n",
       " ('I', 811),\n",
       " ('will', 801),\n",
       " ('all', 744),\n",
       " ('are', 740),\n",
       " ('their', 705),\n",
       " ('this', 675),\n",
       " ('The', 606),\n",
       " ('has', 600),\n",
       " ('people', 552),\n",
       " ('its', 542),\n",
       " (';', 534),\n",
       " ('or', 527),\n",
       " ('from', 515),\n",
       " ('been', 480),\n",
       " ('on', 475),\n",
       " ('but', 465),\n",
       " ('We', 459),\n",
       " ('my', 445),\n",
       " ('can', 444),\n",
       " ('us', 441),\n",
       " ('no', 395),\n",
       " ('an', 367),\n",
       " ('--', 361),\n",
       " ('upon', 361),\n",
       " ('It', 350),\n",
       " ('so', 349),\n",
       " ('who', 346),\n",
       " ('they', 335),\n",
       " ('must', 333),\n",
       " ('Government', 330),\n",
       " ('them', 323),\n",
       " ('States', 320),\n",
       " ('should', 316),\n",
       " ('may', 314),\n",
       " ('shall', 310),\n",
       " ('at', 305),\n",
       " ('great', 305),\n",
       " ('world', 301),\n",
       " ('more', 295),\n",
       " ('those', 291),\n",
       " ('country', 279),\n",
       " ('-', 277),\n",
       " ('any', 267),\n",
       " ('was', 263),\n",
       " ('every', 258),\n",
       " ('government', 254),\n",
       " ('other', 249),\n",
       " ('peace', 242),\n",
       " ('own', 234),\n",
       " ('than', 229),\n",
       " ('only', 228),\n",
       " ('new', 221),\n",
       " ('power', 219),\n",
       " ('one', 216),\n",
       " ('public', 216),\n",
       " ('citizens', 215),\n",
       " ('nation', 215),\n",
       " ('In', 214),\n",
       " ('these', 212),\n",
       " ('do', 209),\n",
       " ('would', 207),\n",
       " (\"'\", 205),\n",
       " ('Constitution', 195),\n",
       " ('time', 193),\n",
       " ('such', 192),\n",
       " ('now', 188),\n",
       " ('me', 185),\n",
       " ('s', 182),\n",
       " ('if', 181),\n",
       " ('nations', 177),\n",
       " ('free', 171),\n",
       " ('under', 170),\n",
       " ('his', 166),\n",
       " ('there', 164),\n",
       " ('most', 162),\n",
       " ('America', 161),\n",
       " ('United', 160),\n",
       " ('war', 157),\n",
       " ('when', 155)]"
      ]
     },
     "execution_count": 27,
     "metadata": {},
     "output_type": "execute_result"
    }
   ],
   "source": [
    "inaugcorpus_freq = nltk.FreqDist(inaug.words())\n",
    "inaugcorpus_freq.most_common(100)"
   ]
  }
 ],
 "metadata": {
  "kernelspec": {
   "display_name": "Python 3",
   "language": "python",
   "name": "python3"
  },
  "language_info": {
   "codemirror_mode": {
    "name": "ipython",
    "version": 3
   },
   "file_extension": ".py",
   "mimetype": "text/x-python",
   "name": "python",
   "nbconvert_exporter": "python",
   "pygments_lexer": "ipython3",
   "version": "3.6.1"
  }
 },
 "nbformat": 4,
 "nbformat_minor": 2
}
