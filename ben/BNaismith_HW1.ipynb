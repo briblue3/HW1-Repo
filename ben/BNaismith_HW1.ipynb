{
 "cells": [
  {
   "cell_type": "markdown",
   "metadata": {},
   "source": [
    "Ben Naismith  \n",
    "ben.naismith@pitt.edu  \n",
    "September 1st, 2017\n",
    "\n",
    "Data set information:\n",
    "- Name: SUBTLEX-UK: Subtitle-based word frequencies for British English\n",
    "- Description: frequency data relating to lexis in subtitles from BBC broadcasts (adult and children programming)\n",
    "- The authors: Van Heuven, W.J.B., Mandera, P., Keuleers, E., & Brysbaert, M.\n",
    "- Website URL: http://crr.ugent.be/archives/1423\n",
    "- Download URL: http://crr.ugent.be/papers/SUBTLEX-UK.xlsx\n",
    "\n",
    "Makeup:\n",
    "- size: based on corpus of 201.3 million words. Frequency data sets have 160,022 clean entries and 332,987 uncleaned entries. The data set analyzed here is the clean entries.\n",
    "- time period: Jan 2010 - Dec 2012\n",
    "- format: single text file\n",
    "\n",
    "License: Creative Commons Attribution-NonCommercial-NoDerivs 3.0 Unported License. (http://creativecommons.org/licenses/by-nc-nd/3.0/deed.en_US)\n",
    "\n",
    "Other information:\n",
    "- similar data set exists for American version\n",
    "- claims to be more reliable than written text corpora for psycholinguistic research\n",
    "- available tool for online searches\n"
   ]
  },
  {
   "cell_type": "markdown",
   "metadata": {},
   "source": [
    "The code below takes a messy text file and peforms the following operations:\n",
    "* Reads in the text\n",
    "* Turns each word/number into a separate item by splitting the text whenever there is a tab or new line\n",
    "* Creates lists for 'Data categories', 'Word types', and 'Word frequencies'\n",
    "* Prints out some basic stats including the different categories and number of categories, total number of word types, the frequency counts of the top 10 most frequent words, and the average word frequency of the types in the data set"
   ]
  },
  {
   "cell_type": "markdown",
   "metadata": {},
   "source": [
    "My one discovery was in relation to the frequency distribution. When comparing the different frequency bands, the top 10 most frequent words account for nearly 0.1% of the entire corpus, and that the top 100 are nearly equal to the top 1000 combined."
   ]
  },
  {
   "cell_type": "code",
   "execution_count": 1,
   "metadata": {},
   "outputs": [
    {
     "name": "stdout",
     "output_type": "stream",
     "text": [
      "There are 27 data categories in the SUBTLEX-UK corpus. These categories are:\n",
      "\n",
      " ['Spelling', 'FreqCount', 'Cbeebies_freq', 'CBBC_freq', 'BNC_freq', 'LogFreq(Zipf)', 'LogFreqCbeebies(Zipf)', 'LogFreqCBBC(Zipf)', 'LogFreqBNC(Zipf)', 'CD_count', 'CD_count_Cbeebies', 'CD_count_CBBC', 'CD', 'CD_cbeebies', 'CD_cbbc', 'DomPoS', 'DomPoSLemma', 'DomPoSFreq', 'DomPoSLemmaTotalFreq', 'AllPoS', 'AllPoSFreq', 'CapitFreq', 'Spell_check', 'Hyphen', 'Homophonic_entry', 'Double_word_entry', 'Freq_double_entry']\n",
      "\n",
      " There are 160024 types in the SUBTLEX-UK corpus\n",
      "\n",
      " The mean average word frequency in this data set is 1260.49388834\n",
      "\n",
      " The top 10 most frequent words in the SUBTLEX-UK corpus are:\n",
      "  -  labour 45591\n",
      "  -  programme 31950\n",
      "  -  favourite 27052\n",
      "  -  colour 22651\n",
      "  -  realise 15715\n",
      "  -  honourable 13956\n",
      "  -  metres 12695\n",
      "  -  flavour 10745\n",
      "  -  colours 9924\n",
      "  -  recognise 9913\n",
      "\n",
      " The following are the percentage of total tokens accounted for by different frequency bands:\n",
      "  - Top 10: 0.000992\n",
      "  - Top 100: 0.002033\n",
      "  - Top 500: 0.002506\n",
      "  - Top 1000: 0.002616\n"
     ]
    }
   ],
   "source": [
    "import numpy\n",
    "\n",
    "#Read-in data set SUBTLEX-UK\n",
    "\n",
    "f = open('/Users/Benjamin\\'s/Documents/Data_Science/HW1-Repo/ben/data/SUBTLEX.txt', 'r')\n",
    "text = f.read()\n",
    "f.close()\n",
    "\n",
    "#separating items in text file (categories and data points)\n",
    "lines = text.split(\"\\n\")\n",
    "items = [x.split(\"\\t\") for x in lines]\n",
    "\n",
    "#separating categories from other data\n",
    "categories = items[0]\n",
    "data = items[1:-1]\n",
    "\n",
    "print(\"There are\", len(categories), \"data categories in the SUBTLEX-UK corpus. These categories are:\")\n",
    "print(\"\\n\", categories)\n",
    "\n",
    "#creating list of types and list of frequencies (the second one as integers)\n",
    "types = [i[0] for i in data]\n",
    "freq = [i[1] for i in data[:-1]]\n",
    "freqint = [int(i) for i in freq[:-1]]\n",
    "\n",
    "print(\"\\n There are\", len(types), \"types in the SUBTLEX-UK corpus\")\n",
    "print(\"\\n The mean average word frequency in this data set is\", numpy.mean(freqint))\n",
    "\n",
    "#print top 10 most frequent types and their frequencies\n",
    "print(\"\\n The top 10 most frequent words in the SUBTLEX-UK corpus are:\")\n",
    "\n",
    "for i in data[:10]:\n",
    "      print(\"  - \", i[0], i[1])\n",
    "\n",
    "print(\"\\n The following are the percentage of total tokens accounted for by different frequency bands:\")\n",
    "\n",
    "print(\"  - Top 10:\", round(numpy.sum(freqint[:10])/numpy.sum(freqint), 6))\n",
    "print(\"  - Top 100:\", round(numpy.sum(freqint[:100])/numpy.sum(freqint), 6))\n",
    "print(\"  - Top 500:\", round(numpy.sum(freqint[:500])/numpy.sum(freqint), 6))\n",
    "print(\"  - Top 1000:\", round(numpy.sum(freqint[:1000])/numpy.sum(freqint), 6))\n"
   ]
  },
  {
   "cell_type": "markdown",
   "metadata": {},
   "source": [
    "Tasks I was unable to perform but would have liked to include,\n",
    "* finding a simple way to link category indices to the respective data\n",
    "* other techniques for dealing with messy data which is all in one jumbled text file\n",
    "* creating visuals and graphs based on the data provided, for example for the frequency distribution"
   ]
  }
 ],
 "metadata": {
  "kernelspec": {
   "display_name": "Python 3",
   "language": "python",
   "name": "python3"
  },
  "language_info": {
   "codemirror_mode": {
    "name": "ipython",
    "version": 3
   },
   "file_extension": ".py",
   "mimetype": "text/x-python",
   "name": "python",
   "nbconvert_exporter": "python",
   "pygments_lexer": "ipython3",
   "version": "3.6.1"
  }
 },
 "nbformat": 4,
 "nbformat_minor": 2
}
