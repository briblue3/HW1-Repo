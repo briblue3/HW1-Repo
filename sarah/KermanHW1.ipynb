{
 "cells": [
  {
   "cell_type": "markdown",
   "metadata": {},
   "source": [
    "Sarah Kerman shk83@pitt.edu 09/03/17\n",
    "\n",
    "    - Australian Broadcasting Commission 2006\n",
    "    - Author: Australian Broadcasting Commission\n",
    "    - http://www.nltk.org/nltk_data/\n",
    "    - contains 3MB of news broadcast transcripts, divided into \"rural\" and \"science\" categories\n",
    "    - chose not to use either corpus from my TODO 1, since both of them were in formats other than .txt"
   ]
  },
  {
   "cell_type": "markdown",
   "metadata": {},
   "source": [
    "The cell below contains my code. It loads the Australian Broadcast Commission 2006 corpus, prints out some samples of each sub-corpus file, and displays relevant statistics. As the comments indicate, python returned several errors when executing any line that would read to the end of the science.txt file. I am still unsure why this happened, as this is a corpus that I downloaded directly from the nltk data page.\n",
    "\n",
    "My discovery question was: does the science sub-corpus contain longer words than the rural sub-corpus?\n",
    "I was unfortunately unable to fully answer this question, due to the errors with the science.txt file. One thing I would like to be able to do but can't right now is address this error, figure out WHY it happened and how I can avoid errors like it in the future."
   ]
  },
  {
   "cell_type": "code",
   "execution_count": 1,
   "metadata": {},
   "outputs": [
    {
     "name": "stdout",
     "output_type": "stream",
     "text": [
      "rural.txt sample\n",
      "['PM', 'denies', 'knowledge', 'of', 'AWB', 'kickbacks', 'The', 'Prime', 'Minister', 'has', 'denied', 'he', 'knew', 'AWB', 'was', 'paying', 'kickbacks', 'to', 'Iraq', 'despite', 'writing', 'to', 'the', 'wheat', 'exporter', 'asking', 'to', 'be', 'kept', 'fully', 'informed', 'on', 'Iraq', 'wheat', 'sales', '.', 'Letters', 'from', 'John', 'Howard', 'and', 'Deputy', 'Prime', 'Minister', 'Mark', 'Vaile', 'to', 'AWB', 'have', 'been', 'released', 'by', 'the', 'Cole', 'inquiry', 'into', 'the', 'oil', 'for', 'food', 'program', '.', 'In', 'one', 'of', 'the', 'letters', 'Mr', 'Howard', 'asks', 'AWB', 'managing', 'director', 'Andrew', 'Lindberg', 'to', 'remain', 'in', 'close', 'contact', 'with', 'the', 'Government', 'on', 'Iraq', 'wheat', 'sales', '.', 'The', 'Opposition', \"'\", 's', 'Gavan', 'O', \"'\", 'Connor', 'says', 'the', 'letter', 'was']\n",
      "\n",
      "science.txt sample\n",
      "['Cystic', 'fibrosis', 'affects', '30', ',', '000', 'children', 'and', 'young', 'adults', 'in', 'the', 'US', 'alone', 'Inhaling', 'the', 'mists', 'of', 'salt', 'water', 'can', 'reduce', 'the', 'pus', 'and', 'infection', 'that', 'fills', 'the', 'airways', 'of', 'cystic', 'fibrosis', 'sufferers', ',', 'although', 'side', 'effects', 'include', 'a', 'nasty', 'coughing', 'fit', 'and', 'a', 'harsh', 'taste', '.', 'That', \"'\", 's', 'the', 'conclusion', 'of', 'two', 'studies', 'published', 'in', 'this', 'week', \"'\", 's', 'issue', 'of', 'The', 'New', 'England', 'Journal', 'of', 'Medicine', '.', 'They', 'found', 'that', 'inhaling', 'a', 'mist', 'with', 'a', 'salt', 'content', 'of', '7', 'or', '9', '%', 'improved', 'lung', 'function', 'and', ',', 'in', 'some', 'cases', ',', 'produced', 'less', 'absenteeism', 'from', 'school']\n",
      "\n",
      "The corpus contains 3 files, one of which is the README file\n",
      "The rural.txt data contains 345580 words\n",
      "The science.txt file is .4MB larger than the rural.txt file, so presumably contains more words\n",
      "The average word length in the rural.txt file is 4.35297470918456 characters\n"
     ]
    }
   ],
   "source": [
    "import nltk\n",
    "#loading data\n",
    "from nltk.corpus import PlaintextCorpusReader\n",
    "corpus_root='data/abc'\n",
    "abc=PlaintextCorpusReader(corpus_root,'.*')\n",
    "#printing data samples\n",
    "print('rural.txt sample')\n",
    "print(abc.words('rural.txt')[:100])\n",
    "print()\n",
    "print('science.txt sample')\n",
    "print(abc.words('science.txt')[:100])\n",
    "#printing corpus stats\n",
    "print()\n",
    "print('The corpus contains',len(abc.fileids()),'files, one of which is the README file')\n",
    "#the statement below was supposed to print the number of sentences in the corpus, but got several Lookup Errors\n",
    "#Python appears to have an issue with the science.txt file. I did not alter it, so I don't know why this error exists\n",
    "#print ('The corpus contains', len(abc.sents('rural.txt','science.txt)),'sentences')\n",
    "rural_len=len(abc.words('rural.txt'))\n",
    "#science_len=len(abc.words('science.txt'))\n",
    "#for some reason, python can get the length of rural.txt, but returns an error on science.txt\n",
    "print('The rural.txt data contains',rural_len,'words')\n",
    "#print('The science.txt data contains',science_len,'words')\n",
    "print('The science.txt file is .4MB larger than the rural.txt file, so presumably contains more words')\n",
    "\n",
    "#Discovery Question: does the science sub-corpus contain longer words than the rural sub-corpus?\n",
    "#Scientific terminology tends to be longer, so I would hypothesize that the answer is yes\n",
    "\n",
    "avgrural=sum([len(x) for x in abc.words('rural.txt')])/rural_len\n",
    "print('The average word length in the rural.txt file is',avgrural,'characters')\n",
    "#Again, more issues with the science file\n",
    "#avgsci=sum([len(x) for x in abc.words('science.txt')])/science_len\n",
    "#print('The average word length in the science.txt file is',avgsci,'characters')"
   ]
  },
  {
   "cell_type": "code",
   "execution_count": null,
   "metadata": {
    "collapsed": true
   },
   "outputs": [],
   "source": []
  }
 ],
 "metadata": {
  "kernelspec": {
   "display_name": "Python 3",
   "language": "python",
   "name": "python3"
  },
  "language_info": {
   "codemirror_mode": {
    "name": "ipython",
    "version": 3
   },
   "file_extension": ".py",
   "mimetype": "text/x-python",
   "name": "python",
   "nbconvert_exporter": "python",
   "pygments_lexer": "ipython3",
   "version": "3.6.1"
  }
 },
 "nbformat": 4,
 "nbformat_minor": 2
}
