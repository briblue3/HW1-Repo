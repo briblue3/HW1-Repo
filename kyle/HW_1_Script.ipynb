{
 "cells": [
  {
   "cell_type": "markdown",
   "metadata": {},
   "source": [
    "Kyle Landin, ktl14@pitt.edu, 9/5/2017\n",
    "\n",
    "The data set is based off of findings from Edward Dolch in 1936, containing 220 frequently used English words grouped by their part of speech.\n",
    "\n",
    "Download URL:https://raw.githubusercontent.com/nltk/nltk_data/gh-pages/packages/corpora/dolch.zip"
   ]
  },
  {
   "cell_type": "markdown",
   "metadata": {},
   "source": [
    "This code aims to read the data in the corpus, print some representative pieces of the data, as well as print some statistics."
   ]
  },
  {
   "cell_type": "code",
   "execution_count": 44,
   "metadata": {},
   "outputs": [
    {
     "name": "stdout",
     "output_type": "stream",
     "text": [
      "An example of the adjectives from this corpus are:\n",
      "black\n",
      " brown\n",
      " green\n",
      " right\n",
      " white\n",
      "\n",
      "The number of adjectives provided is: 46\n"
     ]
    }
   ],
   "source": [
    "a = open('adjectives','r')\n",
    "adjectives = a.readlines()\n",
    "size = len(adjectives)\n",
    "b = adjectives[7]\n",
    "c = adjectives[10]\n",
    "d = adjectives[20]\n",
    "e = adjectives[33]\n",
    "f = adjectives[44]\n",
    "print(\"An example of the adjectives from this corpus are:\")\n",
    "print(b, c, d, e, f)\n",
    "print(\"The number of adjectives provided is:\", size)\n",
    "a.close()"
   ]
  },
  {
   "cell_type": "code",
   "execution_count": 45,
   "metadata": {},
   "outputs": [
    {
     "name": "stdout",
     "output_type": "stream",
     "text": [
      "An example of the adverbs from this corpus are:\n",
      "always\n",
      " just\n",
      " not\n",
      " then\n",
      " why\n",
      "\n",
      "The number of adverbs provided is: 34\n"
     ]
    }
   ],
   "source": [
    "a = open('adverbs','r')\n",
    "adverbs = a.readlines()\n",
    "size = len(adverbs)\n",
    "b = adverbs[1]\n",
    "c = adverbs[10]\n",
    "d = adverbs[14]\n",
    "e = adverbs[22]\n",
    "f = adverbs[32]\n",
    "print(\"An example of the adverbs from this corpus are:\")\n",
    "print(b, c, d, e, f)\n",
    "print(\"The number of adverbs provided is:\", size)\n",
    "a.close()"
   ]
  },
  {
   "cell_type": "code",
   "execution_count": 46,
   "metadata": {},
   "outputs": [
    {
     "name": "stdout",
     "output_type": "stream",
     "text": [
      "An example of the conjunctions from this corpus are:\n",
      "as\n",
      " but\n",
      " or\n",
      "\n",
      "The number of conjunctions provided is: 6\n"
     ]
    }
   ],
   "source": [
    "a = open('conjunctions','r')\n",
    "conjunctions = a.readlines()\n",
    "size = len(conjunctions)\n",
    "b = conjunctions[1]\n",
    "c = conjunctions[3]\n",
    "d = conjunctions[5]\n",
    "print(\"An example of the conjunctions from this corpus are:\")\n",
    "print(b, c, d)\n",
    "print(\"The number of conjunctions provided is:\", size)\n",
    "a.close()"
   ]
  },
  {
   "cell_type": "code",
   "execution_count": 47,
   "metadata": {},
   "outputs": [
    {
     "name": "stdout",
     "output_type": "stream",
     "text": [
      "An example of the nouns from this corpus are:\n",
      "bed\n",
      " Christmas\n",
      " house\n",
      " snow\n",
      " window\n",
      "\n",
      "The number of nouns provided is: 95\n"
     ]
    }
   ],
   "source": [
    "a = open('nouns','r')\n",
    "nouns = a.readlines()\n",
    "size = len(nouns)\n",
    "b = nouns[5]\n",
    "c = nouns[20]\n",
    "d = nouns[50]\n",
    "e = nouns[77]\n",
    "f = nouns[93]\n",
    "print(\"An example of the nouns from this corpus are:\")\n",
    "print(b, c, d, e, f)\n",
    "print(\"The number of nouns provided is:\", size)\n",
    "a.close()"
   ]
  },
  {
   "cell_type": "code",
   "execution_count": 48,
   "metadata": {},
   "outputs": [
    {
     "name": "stdout",
     "output_type": "stream",
     "text": [
      "An example of the prepositions from this corpus are:\n",
      "at\n",
      " down\n",
      " from\n",
      " into\n",
      " on\n",
      "\n",
      "The number of prepositions provided is: 16\n"
     ]
    }
   ],
   "source": [
    "a = open('prepositions','r')\n",
    "prepositions = a.readlines()\n",
    "size = len(prepositions)\n",
    "b = prepositions[2]\n",
    "c = prepositions[4]\n",
    "d = prepositions[6]\n",
    "e = prepositions[8]\n",
    "f = prepositions[10]\n",
    "print(\"An example of the prepositions from this corpus are:\")\n",
    "print(b, c, d, e, f)\n",
    "print(\"The number of prepositions provided is:\", size)\n",
    "a.close()"
   ]
  },
  {
   "cell_type": "code",
   "execution_count": 49,
   "metadata": {},
   "outputs": [
    {
     "name": "stdout",
     "output_type": "stream",
     "text": [
      "An example of the pronouns from this corpus are:\n",
      "him\n",
      " our\n",
      " they\n",
      " which\n",
      " your\n",
      "\n",
      "The number of pronouns provided is: 26\n"
     ]
    }
   ],
   "source": [
    "a = open('pronouns','r')\n",
    "pronouns = a.readlines()\n",
    "size = len(pronouns)\n",
    "b = pronouns[2]\n",
    "c = pronouns[10]\n",
    "d = pronouns[16]\n",
    "e = pronouns[22]\n",
    "f = pronouns[25]\n",
    "print(\"An example of the pronouns from this corpus are:\")\n",
    "print(b, c, d, e, f)\n",
    "print(\"The number of pronouns provided is:\", size)\n",
    "a.close()"
   ]
  },
  {
   "cell_type": "code",
   "execution_count": 50,
   "metadata": {},
   "outputs": [
    {
     "name": "stdout",
     "output_type": "stream",
     "text": [
      "An example of the verbs from this corpus are:\n",
      "buy\n",
      " eat\n",
      " know\n",
      " say\n",
      " wish\n",
      "\n",
      "The number of verbs provided is: 92\n"
     ]
    }
   ],
   "source": [
    "a = open('verbs','r')\n",
    "verbs = a.readlines()\n",
    "size = len(verbs)\n",
    "b = verbs[7]\n",
    "c = verbs[22]\n",
    "d = verbs[44]\n",
    "e = verbs[66]\n",
    "f = verbs[88]\n",
    "print(\"An example of the verbs from this corpus are:\")\n",
    "print(b, c, d, e, f)\n",
    "print(\"The number of verbs provided is:\", size)\n",
    "a.close()"
   ]
  },
  {
   "cell_type": "markdown",
   "metadata": {},
   "source": [
    "The README file says that there are 220 words in all, but after adding up the total number of outputs from each file, the total seems to come to 315. Is it possible that more data was added after the fact or are there repeats within the data? One could check this with more programming knowledge than me by comparing each of the files line by line."
   ]
  }
 ],
 "metadata": {
  "kernelspec": {
   "display_name": "Python 3",
   "language": "python",
   "name": "python3"
  },
  "language_info": {
   "codemirror_mode": {
    "name": "ipython",
    "version": 3
   },
   "file_extension": ".py",
   "mimetype": "text/x-python",
   "name": "python",
   "nbconvert_exporter": "python",
   "pygments_lexer": "ipython3",
   "version": "3.6.1"
  }
 },
 "nbformat": 4,
 "nbformat_minor": 2
}
