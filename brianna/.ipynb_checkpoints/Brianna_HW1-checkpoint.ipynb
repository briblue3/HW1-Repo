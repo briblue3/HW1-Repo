{
 "cells": [
  {
   "cell_type": "markdown",
   "metadata": {
    "collapsed": true
   },
   "source": [
    "# Brianna Hill\n",
    "### [blh82@pitt.edu](mailto:blh82@pitt.edu) || September 3, 2017\n",
    "\n",
    "#### Data set information:\n",
    "- Name: Crúbadán language data for Tamazight\n",
    "- Developer/Researcher/Creator: Kevin Scannell\n",
    "- OLAC Record page: http://www.language-archives.org/item/oai:crubadan.org:tzm\n",
    "    - File download: http://crubadan.org/languages/tzm\n",
    "- Size: 1192 documents, approximately 2.3 million words\n",
    "- Afro-Asiatic language (specifically Morocco)\n",
    "- License: Creative Commons Attribution 4.0 International License"
   ]
  },
  {
   "cell_type": "markdown",
   "metadata": {},
   "source": [
    "#### Summary:\n",
    "This code does a basic overview of the Crúbadán language data for Tamazight by Kevin Scannell. The data from the tzm-words file, which contains individual words and the frequency that they appear in the data, was read in to a variable. After the data was split into list pairs containing only the word and its frequency, there is a simple print test to determine if the split was done as expected. Next the total number of words in the data is counted before finding the longest and most frequent words. The longest and most frequent words were found within the same loop in order to increase efficiency. The results were then printed. In the very last section, I was able to find both the average and mean values of the frequency counts of the words in this dataset. (Yes, there is a difference, but not in terms of what I'm doing with this data. I discovered that via [this page](https://stackoverflow.com/questions/20054243/np-mean-vs-np-average-in-python-numpy) when trying to figure out why my functions were not working.)\n",
    "\n",
    "#### Future wish:\n",
    "Hopefully as I learn more about NumPy I'll be able to do more with data processing! I know that I can do more now, but I just wanted to get back into the swing of things with this assignment.\n",
    "\n",
    "### Code:"
   ]
  },
  {
   "cell_type": "code",
   "execution_count": 1,
   "metadata": {},
   "outputs": [
    {
     "name": "stdout",
     "output_type": "stream",
     "text": [
      "['n', '10441']\n",
      "n\n",
      "10441\n"
     ]
    }
   ],
   "source": [
    "# open tzm-words for reading, read in to variable, close file\n",
    "f = open('data/tzm/tzm-words.txt', 'r')\n",
    "wordlines = f.readlines()\n",
    "f.close()\n",
    "\n",
    "words = []  # create list for words & frequency\n",
    "\n",
    "# split text file into words & frequencies\n",
    "for each in wordlines:\n",
    "    words.append(each.split())\n",
    "\n",
    "# test to see if splitting worked as desired\n",
    "print(words[0])\n",
    "print(words[0][0])\n",
    "print(words[0][1])"
   ]
  },
  {
   "cell_type": "code",
   "execution_count": 2,
   "metadata": {
    "scrolled": true
   },
   "outputs": [
    {
     "name": "stdout",
     "output_type": "stream",
     "text": [
      "Number of words: 36802\n",
      "The longest word in the data is Paroles-musique-orchestre-arrangements-traduction\n",
      "The word appearing most frequently is n which appears 10441 times\n"
     ]
    }
   ],
   "source": [
    "# count number of words in sample\n",
    "num_words = len(words)\n",
    "print(\"Number of words:\", num_words)\n",
    "\n",
    "# set defaults for longest & most frequent words\n",
    "longest = words[0][0]\n",
    "freq = words[0]\n",
    "\n",
    "# find longest & most frequent words\n",
    "for each in words:\n",
    "    if len(each[0]) > len(longest):\n",
    "        longest = each[0]\n",
    "    if int(each[1]) > int(freq[1]):   # make sure numbers are ints\n",
    "        freq = each\n",
    "\n",
    "# print longest & most frequent words\n",
    "print(\"The longest word in the data is\", longest)\n",
    "print(\"The word appearing most frequently is\", freq[0], \n",
    "      \"which appears\", freq[1], \"times\")"
   ]
  },
  {
   "cell_type": "markdown",
   "metadata": {},
   "source": [
    "### NumPy Attempt!\n",
    "\n",
    "I did attempt a tiny bit of NumPy, which wa a bit frustrating to say the least. But it's probably because before this I had literally done nothing with it. It took forever to realize I couldn't find the average/mean because the numbers were strings and not integers like I wanted (and needed) them to be. After I figured that part out, it went pretty well! It also meant that I had to go back in the previous code section where I found the most frequent word and make sure I was using integer values there as well, but that was not a problem."
   ]
  },
  {
   "cell_type": "code",
   "execution_count": 3,
   "metadata": {},
   "outputs": [
    {
     "name": "stdout",
     "output_type": "stream",
     "text": [
      "<class 'int'>\n",
      "\n",
      "Average frequency value: 5.34009021249\n",
      "Mean frequency value: 5.34009021249\n"
     ]
    }
   ],
   "source": [
    "import numpy  # import NumPy library\n",
    "\n",
    "# create freq array to be used with NumPy\n",
    "freq_array = []\n",
    "for each in words:\n",
    "    freq_array.append(int(each[1]))  # make sure data is in int form\n",
    "    \n",
    "print(type(freq_array[1]))  # confirm data is in int form\n",
    "\n",
    "# find the average and mean using NumPy then print both values\n",
    "avg = numpy.average(freq_array)\n",
    "mean = numpy.mean(freq_array)\n",
    "print(\"\\nAverage frequency value:\", avg)\n",
    "print(\"Mean frequency value:\", mean)\n"
   ]
  }
 ],
 "metadata": {
  "kernelspec": {
   "display_name": "Python 3",
   "language": "python",
   "name": "python3"
  },
  "language_info": {
   "codemirror_mode": {
    "name": "ipython",
    "version": 3
   },
   "file_extension": ".py",
   "mimetype": "text/x-python",
   "name": "python",
   "nbconvert_exporter": "python",
   "pygments_lexer": "ipython3",
   "version": "3.6.1"
  }
 },
 "nbformat": 4,
 "nbformat_minor": 2
}
