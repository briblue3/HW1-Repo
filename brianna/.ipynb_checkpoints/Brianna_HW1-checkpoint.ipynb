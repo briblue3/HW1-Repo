{
 "cells": [
  {
   "cell_type": "markdown",
   "metadata": {
    "collapsed": true
   },
   "source": [
    "# Brianna Hill\n",
    "### [blh82@pitt.edu](mailto:blh82@pitt.edu) || September 3, 2017\n",
    "\n",
    "#### Data set information:\n",
    "- Name: Crúbadán language data for Tamazight\n",
    "- Developer/Researcher/Creator: Kevin Scannell\n",
    "- OLAC Record page: http://www.language-archives.org/item/oai:crubadan.org:tzm\n",
    "    - File download: http://crubadan.org/languages/tzm\n",
    "- Size: 1192 documents, approximately 2.3 million words\n",
    "- Afro-Asiatic language (specifically Morocco)\n",
    "- License: Creative Commons Attribution 4.0 International License"
   ]
  },
  {
   "cell_type": "code",
   "execution_count": 3,
   "metadata": {},
   "outputs": [
    {
     "name": "stdout",
     "output_type": "stream",
     "text": [
      "['n', '10441']\n",
      "n\n",
      "10441\n"
     ]
    }
   ],
   "source": [
    "# open tzm-words for reading, read in to variable, close file\n",
    "f = open('data/tzm/tzm-words.txt', 'r')\n",
    "wordlines = f.readlines()\n",
    "f.close()\n",
    "\n",
    "words = []  # create list for words & frequency\n",
    "\n",
    "# split text file into words & frequencies\n",
    "for each in wordlines:\n",
    "    words.append(each.split())\n",
    "\n",
    "# test to see if splitting worked as desired\n",
    "print(words[0])\n",
    "print(words[0][0])\n",
    "print(words[0][1])"
   ]
  },
  {
   "cell_type": "code",
   "execution_count": 13,
   "metadata": {},
   "outputs": [
    {
     "name": "stdout",
     "output_type": "stream",
     "text": [
      "Number of words: 36802\n",
      "The longest word in the data is Paroles-musique-orchestre-arrangements-traduction\n",
      "The word appearing most frequently is kan which appears 999 times\n"
     ]
    }
   ],
   "source": [
    "# count number of words in sample\n",
    "num_words = len(words)\n",
    "print(\"Number of words:\", num_words)\n",
    "\n",
    "# set defaults for longest & most frequent words\n",
    "longest = words[0][0]\n",
    "freq = words[0]\n",
    "\n",
    "# find longest & most frequent words\n",
    "for each in words:\n",
    "    if len(each[0]) > len(longest):\n",
    "        longest = each[0]\n",
    "    if each[1] > freq[1]:\n",
    "        freq = each\n",
    "\n",
    "# print longest & most frequent words\n",
    "print(\"The longest word in the data is\", longest)\n",
    "print(\"The word appearing most frequently is\", freq[0], \n",
    "      \"which appears\", freq[1], \"times\")"
   ]
  }
 ],
 "metadata": {
  "kernelspec": {
   "display_name": "Python 3",
   "language": "python",
   "name": "python3"
  },
  "language_info": {
   "codemirror_mode": {
    "name": "ipython",
    "version": 3
   },
   "file_extension": ".py",
   "mimetype": "text/x-python",
   "name": "python",
   "nbconvert_exporter": "python",
   "pygments_lexer": "ipython3",
   "version": "3.6.1"
  }
 },
 "nbformat": 4,
 "nbformat_minor": 2
}
