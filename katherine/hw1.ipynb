{
 "cells": [
  {
   "cell_type": "markdown",
   "metadata": {},
   "source": [
    "##### Katherine Kairis,  kak275@pitt.edu,  9/4/2017\n",
    "\n",
    "Data set info:\n",
    "The Carnegie Mellon Pronouncing Dictionary can be downloaded at http://www.nltk.org/nltk_data/ and is 3.8 MB. It does not have any specific licensing: the use of the dictionary is completely unrestricted for any research or commercial purpose. The pronouncing dictionary is a large text file that contains the pronunciations for thousands of English words. For some words, multiple pronunciations are provided. Each line in the file represents an entry, and contains the written word, a counter (to keep track of multiple pronunciations), and the word's phonetic transcription."
   ]
  },
  {
   "cell_type": "markdown",
   "metadata": {},
   "source": [
    "Summary: The code iterates through all of the entries in the pronouncing dictionary. As the iteration takes place, information about each entry is added to two dictionaries('sound_counts' and 'word_dict') and one list('pronunciations'). The 'sound_counts' dictionary keeps track of the frequencies of each phoneme (the keys are single phonemes and the values are the phonemes' frequencies); the 'word_dict' dictionary keeps track of the number of different pronunciations for each word (the keys are the dictionary words and the values are counts of the words' pronunciations); and the 'pronunciations' list contains all the pronunciations/phonetic transcriptions found in the CMU dictionary. After the program iterates through all of the file's entries, I use these dictionaries and lists to make a few discoveries. I use the sound_counts dictionary to find the five phonemes that occur the most frequently in the dictionary's words. I use word_dict to find to number of unique words that have pronunciations listed in the dictionary, and to compare this value to the total number of entries. Numpy and the values of word_dict are also used to find the average number of pronunciations/entries per single word. Finally, I use the 'pronunciations' list to determine the average number of sounds per word.\n",
    "\n",
    "Future wish: I think it would be interesting to investigate the syllables in the pronouncing dictionary. Specifically, I would be interested in trying to find the longest syllable, the most common syllables, etc. The Carnegie Mellon Pronouncing Dictionary does contain stress markers. Though I did not consider them this time, these markers could be helpful when looking into syllable structures, but I wouldn't know how exactly to approach these problems."
   ]
  },
  {
   "cell_type": "code",
   "execution_count": 1,
   "metadata": {
    "collapsed": true
   },
   "outputs": [],
   "source": [
    "import re\n",
    "import numpy as np"
   ]
  },
  {
   "cell_type": "code",
   "execution_count": 2,
   "metadata": {
    "collapsed": true
   },
   "outputs": [],
   "source": [
    "#Open the dictionary file\n",
    "f = open('data/cmudict/cmudict')\n",
    "lines = f.readlines()\n",
    "f.close()"
   ]
  },
  {
   "cell_type": "markdown",
   "metadata": {},
   "source": [
    "### Snippets of the data"
   ]
  },
  {
   "cell_type": "code",
   "execution_count": 3,
   "metadata": {},
   "outputs": [
    {
     "name": "stdout",
     "output_type": "stream",
     "text": [
      "Here are some entries from the dictionary:\n",
      "\tACKNOWLEDGE 1 AE0 K N AA1 L IH0 JH\n",
      "\tACKNOWLEDGE 2 IH0 K N AA1 L IH0 JH\n",
      "\tBIWEEKLY 1 B AY0 W IY1 K L IY0\n",
      "\tCOOPERATED 2 K W AA1 P ER0 EY2 T AH0 D\n",
      "\tENLARGEMENT 1 IH0 N L AA1 R JH M AH0 N T\n"
     ]
    }
   ],
   "source": [
    "#Print a few entries from the dictionary file\n",
    "print(\"Here are some entries from the dictionary:\")\n",
    "print('\\t' + lines[731].replace('\\n', ''))\n",
    "print('\\t' + lines[732].replace('\\n', ''))\n",
    "print('\\t' + lines[11856].replace('\\n', ''))\n",
    "print('\\t' + lines[24856].replace('\\n', ''))\n",
    "print('\\t' + lines[37856].replace('\\n', ''))"
   ]
  },
  {
   "cell_type": "code",
   "execution_count": 4,
   "metadata": {
    "collapsed": true
   },
   "outputs": [],
   "source": [
    "longest = []\n",
    "pronunciations = []\n",
    "sound_counts = {}\n",
    "word_dict = {}\n",
    "\n",
    "for pronunciation in lines:\n",
    "    entry = pronunciation.replace('\\n', '')\n",
    "\n",
    "    #Split the current line/entry to get the word and the word's phonetic transcription\n",
    "    entry = entry.split()\n",
    "    word = entry[0]\n",
    "    sounds = entry[2:]\n",
    "\n",
    "    #Add the phonetic transcription to the pronunciations list\n",
    "    pronunciations.append(sounds)\n",
    "\n",
    "    #If the current word is the longest word(in terms of the number of sounds) found so far, \n",
    "    #store the entry in 'longest'\n",
    "    if(len(entry) > len(longest)):\n",
    "        longest = entry\n",
    "\n",
    "    #If the word is already in word_dict, increase its count by 1. Otherwise, add the word to\n",
    "    #word_dict and set its count to 1.\n",
    "    if word in word_dict:\n",
    "        word_dict[word] += 1\n",
    "    else:\n",
    "        word_dict[word] = 1\n",
    "\n",
    "    #Iterate through all of the phonemes in the word's transcription\n",
    "    for s in sounds:\n",
    "        #Remove any stress markers from the current phoneme.\n",
    "        s = re.sub(\"[0-9]\", '', s)\n",
    "        \n",
    "        #If the phoneme is already in sound_counts, increase its count by 1. Otherwise,\n",
    "        #add the phoneme to sound_counts, and set its count to 1.\n",
    "        if s in sound_counts:\n",
    "            sound_counts[s] += 1\n",
    "        else:\n",
    "            sound_counts[s] = 1\n"
   ]
  },
  {
   "cell_type": "markdown",
   "metadata": {},
   "source": [
    "### Basic Stats"
   ]
  },
  {
   "cell_type": "code",
   "execution_count": 5,
   "metadata": {},
   "outputs": [
    {
     "name": "stdout",
     "output_type": "stream",
     "text": [
      "There are 133737 entries/pronunciations in the dictionary.\n",
      "The dictionary has pronunciations listed for 123455 different words.\n"
     ]
    }
   ],
   "source": [
    "#Number of pronunciations\n",
    "print(\"There are\", len(lines), \"entries/pronunciations in the dictionary.\")\n",
    "\n",
    "#Number of words\n",
    "print(\"The dictionary has pronunciations listed for\", len(word_dict), \"different words.\")\n"
   ]
  },
  {
   "cell_type": "markdown",
   "metadata": {},
   "source": [
    "### Some Discoveries"
   ]
  },
  {
   "cell_type": "code",
   "execution_count": 6,
   "metadata": {},
   "outputs": [
    {
     "name": "stdout",
     "output_type": "stream",
     "text": [
      "The longest word in the dictionary is SUPERCALIFRAGILISTICEXPEALIDOSHUS\n",
      "It has 32 sounds: ['S', 'UW2', 'P', 'ER0', 'K', 'AE2', 'L', 'AH0', 'F', 'R', 'AE1', 'JH', 'AH0', 'L', 'IH2', 'S', 'T', 'IH0', 'K', 'EH2', 'K', 'S', 'P', 'IY0', 'AE2', 'L', 'AH0', 'D', 'OW1', 'SH', 'AH0', 'S']\n"
     ]
    }
   ],
   "source": [
    "#Longest word\n",
    "print(\"The longest word in the dictionary is\", longest[0])\n",
    "print(\"It has\", len(longest[2:]), \"sounds:\", longest[2:])"
   ]
  },
  {
   "cell_type": "code",
   "execution_count": 7,
   "metadata": {},
   "outputs": [
    {
     "name": "stdout",
     "output_type": "stream",
     "text": [
      "Word(s) with most pronunciations:\n",
      "\tFEBRUARY: 5 different pronunciations.\n",
      "\tFEBRUARY'S: 5 different pronunciations.\n"
     ]
    }
   ],
   "source": [
    "#Word(s) with greatest number of different pronunciations\n",
    "print(\"Word(s) with most pronunciations:\")\n",
    "previous = 0\n",
    "for s in sorted(word_dict, key=word_dict.get, reverse = True)[:5]:\n",
    "    if word_dict[s] < previous:\n",
    "        break\n",
    "    print('\\t' + s + ': ' + str(word_dict[s]) + ' different pronunciations.')\n",
    "    previous = word_dict[s]"
   ]
  },
  {
   "cell_type": "code",
   "execution_count": 8,
   "metadata": {},
   "outputs": [
    {
     "name": "stdout",
     "output_type": "stream",
     "text": [
      "Most frequent sounds:\n",
      "\tAH: 71410 occurrences\n",
      "\tN: 60564 occurrences\n",
      "\tS: 50427 occurrences\n",
      "\tIH: 50093 occurrences\n",
      "\tL: 49479 occurrences\n"
     ]
    }
   ],
   "source": [
    "#Most frequent sounds\n",
    "print(\"Most frequent sounds:\")\n",
    "for s in sorted(sound_counts, key=sound_counts.get, reverse = True)[:5]:\n",
    "    print('\\t' + s + ': ' + str(sound_counts[s]) + ' occurrences')"
   ]
  },
  {
   "cell_type": "code",
   "execution_count": 9,
   "metadata": {},
   "outputs": [
    {
     "name": "stdout",
     "output_type": "stream",
     "text": [
      "On average, each word has 1.08328540764 different pronunciations.\n"
     ]
    }
   ],
   "source": [
    "#average number of different pronunciations per word\n",
    "num_prons = num_prons = list(word_dict.values())\n",
    "array = np.asarray(num_prons)\n",
    "print(\"On average, each word has\", np.mean(array), \"different pronunciations.\")\n"
   ]
  },
  {
   "cell_type": "code",
   "execution_count": 10,
   "metadata": {},
   "outputs": [
    {
     "name": "stdout",
     "output_type": "stream",
     "text": [
      "The average number of sounds per word is 6.38505424826\n"
     ]
    }
   ],
   "source": [
    "#average number of sounds per word\n",
    "num_sounds = [len(w) for w in pronunciations]\n",
    "array = np.asarray(num_sounds)\n",
    "print(\"The average number of sounds per word is\", np.mean(array))"
   ]
  }
 ],
 "metadata": {
  "kernelspec": {
   "display_name": "Python 3",
   "language": "python",
   "name": "python3"
  },
  "language_info": {
   "codemirror_mode": {
    "name": "ipython",
    "version": 3
   },
   "file_extension": ".py",
   "mimetype": "text/x-python",
   "name": "python",
   "nbconvert_exporter": "python",
   "pygments_lexer": "ipython3",
   "version": "3.6.1"
  }
 },
 "nbformat": 4,
 "nbformat_minor": 2
}
